{
 "cells": [
  {
   "cell_type": "code",
   "execution_count": 13,
   "id": "d2a02983-436e-405f-8975-014c4091f507",
   "metadata": {},
   "outputs": [],
   "source": [
    "import streamlit as st\n",
    "import pickle\n",
    "import pandas as pd"
   ]
  },
  {
   "cell_type": "code",
   "execution_count": 14,
   "id": "27633e64-cf86-455c-8b04-8fa051c71a0d",
   "metadata": {},
   "outputs": [],
   "source": [
    "# Load the best trained model\n",
    "model = pickle.load(open('insurance_charges_model.p', 'rb'))"
   ]
  },
  {
   "cell_type": "code",
   "execution_count": 15,
   "id": "707092b5-2f8f-4380-a686-8b61d3214b01",
   "metadata": {},
   "outputs": [],
   "source": [
    "# Collect user inputs\n",
    "age = st.number_input('Age', min_value=1, max_value=100, value=25)\n",
    "st.write(\"Choose 0 for Male and 1 for Female\")\n",
    "sex = st.number_input('Sex', min_value=0, max_value=1)\n",
    "bmi = st.number_input('BMI', min_value=10, max_value=50, value=10)\n",
    "children = st.number_input('Children', min_value=0, max_value=5)\n",
    "st.write(\"Choose 0 for Non-smoker and 1 for Smoker\")\n",
    "smoker = st.number_input('Smoker', min_value=0, max_value=1)\n",
    "region_northeast = st.number_input('Region Northeast', min_value=0, max_value=1)\n",
    "region_northwest = st.number_input('Region Northwest', min_value=0, max_value=1)\n",
    "region_southeast = st.number_input('Region Southeast', min_value=0, max_value=1)\n",
    "region_southwest = st.number_input('Region Southwest', min_value=0, max_value=1)\n",
    "\n",
    "output = \"\"\n",
    "\n",
    "if st.button(\"Predict\"):\n",
    "    # Prepare input data as a DataFrame\n",
    "    input_data = pd.DataFrame([[age, sex, bmi, children, smoker, region_northeast, region_northwest, region_southeast, region_southwest]],\n",
    "                              columns=['age', 'sex', 'bmi', 'children', 'smoker', 'region_northeast', 'region_northwest', 'region_southeast', 'region_southwest'])\n",
    "\n",
    "    # Make prediction\n",
    "    result = model.predict(input_data)\n",
    "    st.success('The output of the above is {}'.format(result))"
   ]
  },
  {
   "cell_type": "code",
   "execution_count": null,
   "id": "f100eee3-9fdb-44f4-8c1f-83a46261150a",
   "metadata": {},
   "outputs": [],
   "source": []
  }
 ],
 "metadata": {
  "kernelspec": {
   "display_name": "Python 3 (ipykernel)",
   "language": "python",
   "name": "python3"
  },
  "language_info": {
   "codemirror_mode": {
    "name": "ipython",
    "version": 3
   },
   "file_extension": ".py",
   "mimetype": "text/x-python",
   "name": "python",
   "nbconvert_exporter": "python",
   "pygments_lexer": "ipython3",
   "version": "3.9.0"
  }
 },
 "nbformat": 4,
 "nbformat_minor": 5
}
